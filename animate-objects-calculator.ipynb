{
 "cells": [
  {
   "cell_type": "code",
   "execution_count": 32,
   "metadata": {},
   "outputs": [],
   "source": [
    "from random import random, randint"
   ]
  },
  {
   "cell_type": "code",
   "execution_count": 33,
   "metadata": {},
   "outputs": [],
   "source": [
    "target_ac = 15"
   ]
  },
  {
   "cell_type": "code",
   "execution_count": 36,
   "metadata": {},
   "outputs": [
    {
     "name": "stdout",
     "output_type": "stream",
     "text": [
      "Total damage dealt is: 48\n"
     ]
    }
   ],
   "source": [
    "#tiny objects: 10 objects, +8 to hit, 1d4+4 damage.\n",
    "damage = 0\n",
    "for _ in range(10):\n",
    "    if randint(1,20)+8 >= target_ac:\n",
    "        damage += randint(1,4)+4\n",
    "print(f'Total damage dealt is: {damage}')"
   ]
  },
  {
   "cell_type": "code",
   "execution_count": 42,
   "metadata": {},
   "outputs": [
    {
     "name": "stdout",
     "output_type": "stream",
     "text": [
      "Total damage dealt is: 43\n"
     ]
    }
   ],
   "source": [
    "#small objects: 10 objects, +6 to hit, 1d8+2 damage.\n",
    "damage = 0\n",
    "for _ in range(10):\n",
    "    if randint(1,20)+6 >= target_ac:\n",
    "        damage += randint(1,8)+2\n",
    "print(f'Total damage dealt is: {damage}')"
   ]
  },
  {
   "cell_type": "code",
   "execution_count": 53,
   "metadata": {},
   "outputs": [
    {
     "name": "stdout",
     "output_type": "stream",
     "text": [
      "Total damage dealt is: 21\n"
     ]
    }
   ],
   "source": [
    "#medium objects: 5 objects, +5 to hit, 2d6+1 damage\n",
    "#why would you choose this. No. I'm not doing Large or Huge.\n",
    "damage = 0\n",
    "for _ in range(5):\n",
    "    if randint(1,20)+5 >= target_ac:\n",
    "        damage += randint(1,6)+randint(1,6)+1\n",
    "print(f'Total damage dealt is: {damage}')"
   ]
  },
  {
   "cell_type": "code",
   "execution_count": null,
   "metadata": {},
   "outputs": [],
   "source": []
  }
 ],
 "metadata": {
  "kernelspec": {
   "display_name": "Python 3",
   "language": "python",
   "name": "python3"
  },
  "language_info": {
   "codemirror_mode": {
    "name": "ipython",
    "version": 3
   },
   "file_extension": ".py",
   "mimetype": "text/x-python",
   "name": "python",
   "nbconvert_exporter": "python",
   "pygments_lexer": "ipython3",
   "version": "3.7.1"
  }
 },
 "nbformat": 4,
 "nbformat_minor": 2
}
